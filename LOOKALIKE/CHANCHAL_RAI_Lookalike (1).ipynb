{
 "cells": [
  {
   "cell_type": "code",
   "execution_count": 1,
   "id": "6fd6785c",
   "metadata": {},
   "outputs": [],
   "source": [
    "# Import required libraries\n",
    "import pandas as pd\n",
    "import numpy as np\n",
    "from sklearn.preprocessing import StandardScaler\n",
    "from sklearn.metrics.pairwise import cosine_similarity\n",
    "import warnings\n",
    "warnings.filterwarnings('ignore')"
   ]
  },
  {
   "cell_type": "code",
   "execution_count": 2,
   "id": "bfe67cec",
   "metadata": {},
   "outputs": [
    {
     "name": "stdout",
     "output_type": "stream",
     "text": [
      "Data loaded successfully!\n",
      "\n",
      "Shape of datasets:\n",
      "Customers: (200, 4)\n",
      "Products: (100, 4)\n",
      "Transactions: (1000, 7)\n"
     ]
    }
   ],
   "source": [
    "# Load datasets\n",
    "customers_df = pd.read_csv(r'C:\\Users\\crai8\\Downloads\\Customers.csv')\n",
    "products_df = pd.read_csv(r'C:\\Users\\crai8\\Downloads\\Products.csv')\n",
    "transactions_df = pd.read_csv(r'C:\\Users\\crai8\\Downloads\\Transactions.csv')\n",
    "\n",
    "print(\"Data loaded successfully!\")\n",
    "print(\"\\nShape of datasets:\")\n",
    "print(f\"Customers: {customers_df.shape}\")\n",
    "print(f\"Products: {products_df.shape}\")\n",
    "print(f\"Transactions: {transactions_df.shape}\")"
   ]
  },
  {
   "cell_type": "code",
   "execution_count": 3,
   "id": "e563807c",
   "metadata": {},
   "outputs": [
    {
     "name": "stdout",
     "output_type": "stream",
     "text": [
      "Creating customer features...\n",
      "\n",
      "Features created successfully!\n",
      "Number of features created: 14\n"
     ]
    }
   ],
   "source": [
    "def create_customer_features():\n",
    "    # Transaction-based features\n",
    "    customer_features = transactions_df.groupby('CustomerID').agg({\n",
    "        'TransactionID': 'count',  # Number of transactions\n",
    "        'Quantity': ['sum', 'mean'],  # Total and average quantity\n",
    "        'TotalValue': ['sum', 'mean', 'max']  # Total spent, average transaction value, max transaction\n",
    "    }).round(2)\n",
    "    \n",
    "\n",
    "    customer_features.columns = ['transaction_count', 'total_quantity', 'avg_quantity',\n",
    "                               'total_spent', 'avg_transaction', 'max_transaction']\n",
    "    \n",
    "    \n",
    "    trans_products = transactions_df.merge(products_df, on='ProductID')\n",
    "    \n",
    "\n",
    "    category_preferences = pd.get_dummies(trans_products['Category'])\n",
    "    category_preferences = category_preferences.multiply(trans_products['TotalValue'], axis=0)\n",
    "    category_preferences = category_preferences.groupby(trans_products['CustomerID']).sum()\n",
    "    \n",
    "    # Combine all features\n",
    "    customer_features = customer_features.join(category_preferences)\n",
    "    \n",
    "    # Add customer region (one-hot encoded)\n",
    "    customer_regions = pd.get_dummies(customers_df.set_index('CustomerID')['Region'], prefix='region')\n",
    "    customer_features = customer_features.join(customer_regions)\n",
    "    \n",
    "    return customer_features\n",
    "\n",
    "# Create features\n",
    "print(\"Creating customer features...\")\n",
    "customer_features = create_customer_features()\n",
    "print(\"\\nFeatures created successfully!\")\n",
    "print(f\"Number of features created: {customer_features.shape[1]}\")"
   ]
  },
  {
   "cell_type": "code",
   "execution_count": 4,
   "id": "a28118d8",
   "metadata": {},
   "outputs": [
    {
     "name": "stdout",
     "output_type": "stream",
     "text": [
      "Calculating similarity scores...\n",
      "Similarity matrix created!\n"
     ]
    }
   ],
   "source": [
    "# Scale the features\n",
    "scaler = StandardScaler()\n",
    "scaled_features = scaler.fit_transform(customer_features)\n",
    "scaled_features_df = pd.DataFrame(scaled_features, index=customer_features.index, \n",
    "                                columns=customer_features.columns)\n",
    "\n",
    "# Calculate similarity matrix\n",
    "print(\"Calculating similarity scores...\")\n",
    "similarity_matrix = cosine_similarity(scaled_features)\n",
    "similarity_df = pd.DataFrame(similarity_matrix, \n",
    "                           index=customer_features.index,\n",
    "                           columns=customer_features.index)\n",
    "print(\"Similarity matrix created!\")"
   ]
  },
  {
   "cell_type": "code",
   "execution_count": 5,
   "id": "6a7c5557",
   "metadata": {},
   "outputs": [
    {
     "name": "stdout",
     "output_type": "stream",
     "text": [
      "Generating recommendations for first 20 customers...\n"
     ]
    }
   ],
   "source": [
    "# Function to get top 3 similar customers\n",
    "def get_top_3_similar(customer_id, similarity_df):\n",
    "    customer_similarities = similarity_df[customer_id].sort_values(ascending=False)\n",
    "    customer_similarities = customer_similarities[customer_similarities.index != customer_id]\n",
    "    top_3 = customer_similarities.head(3)\n",
    "    return top_3\n",
    "\n",
    "# Generate recommendations for first 20 customers\n",
    "print(\"Generating recommendations for first 20 customers...\")\n",
    "recommendations = {}\n",
    "first_20_customers = sorted(customers_df['CustomerID'].unique())[:20]\n",
    "\n",
    "for customer_id in first_20_customers:\n",
    "    top_3 = get_top_3_similar(customer_id, similarity_df)\n",
    "    recommendations[customer_id] = [(cust_id, score) for cust_id, score in top_3.items()]"
   ]
  },
  {
   "cell_type": "code",
   "execution_count": 6,
   "id": "3d8527dd",
   "metadata": {},
   "outputs": [
    {
     "name": "stdout",
     "output_type": "stream",
     "text": [
      "Results for first 5 customers:\n",
      "  CustomerID Similar1_ID Similar1_Score Similar2_ID Similar2_Score  \\\n",
      "0      C0001       C0181         0.8534       C0120         0.8053   \n",
      "1      C0002       C0043         0.8593       C0159         0.8466   \n",
      "2      C0003       C0091         0.7501       C0129         0.7012   \n",
      "3      C0004       C0113         0.8356       C0104         0.7993   \n",
      "4      C0005       C0186         0.9141       C0007         0.8934   \n",
      "\n",
      "  Similar3_ID Similar3_Score  \n",
      "0       C0192         0.7761  \n",
      "1       C0128         0.8317  \n",
      "2       C0148         0.6911  \n",
      "3       C0012         0.7556  \n",
      "4       C0146         0.8902  \n",
      "\n",
      "Lookalike.csv has been created successfully!\n"
     ]
    }
   ],
   "source": [
    "# Create Lookalike.csv\n",
    "lookalike_data = []\n",
    "for customer_id, similar_customers in recommendations.items():\n",
    "    row = [customer_id]\n",
    "    for similar_id, score in similar_customers:\n",
    "        row.extend([similar_id, f\"{score:.4f}\"])\n",
    "    lookalike_data.append(row)\n",
    "\n",
    "# Create DataFrame\n",
    "columns = ['CustomerID', \n",
    "           'Similar1_ID', 'Similar1_Score',\n",
    "           'Similar2_ID', 'Similar2_Score',\n",
    "           'Similar3_ID', 'Similar3_Score']\n",
    "\n",
    "lookalike_df = pd.DataFrame(lookalike_data, columns=columns)\n",
    "\n",
    "# Save to CSV\n",
    "lookalike_df.to_csv('FirstName_LastName_Lookalike.csv', index=False)\n",
    "\n",
    "print(\"Results for first 5 customers:\")\n",
    "print(lookalike_df.head())\n",
    "print(\"\\nLookalike.csv has been created successfully!\")"
   ]
  },
  {
   "cell_type": "code",
   "execution_count": null,
   "id": "cf9bae86",
   "metadata": {},
   "outputs": [],
   "source": []
  }
 ],
 "metadata": {
  "kernelspec": {
   "display_name": "Python 3 (ipykernel)",
   "language": "python",
   "name": "python3"
  },
  "language_info": {
   "codemirror_mode": {
    "name": "ipython",
    "version": 3
   },
   "file_extension": ".py",
   "mimetype": "text/x-python",
   "name": "python",
   "nbconvert_exporter": "python",
   "pygments_lexer": "ipython3",
   "version": "3.9.13"
  }
 },
 "nbformat": 4,
 "nbformat_minor": 5
}
